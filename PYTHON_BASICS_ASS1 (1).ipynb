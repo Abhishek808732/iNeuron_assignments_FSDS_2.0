{
 "cells": [
  {
   "cell_type": "markdown",
   "id": "27e24f76-0744-490f-9f1d-0177faff47b4",
   "metadata": {},
   "source": [
    "#Answer 1 \n",
    "\n",
    "Expressions : 'hello' | -87.8 | 6\n",
    "\n",
    "Operators : * | - | / | +"
   ]
  },
  {
   "cell_type": "markdown",
   "id": "11b6348f-06ae-4d71-92a4-7997e279bae6",
   "metadata": {},
   "source": [
    "#Answer 2\n",
    "\n",
    "Variable is an element which is used to store various kinds of data Individually. String is an element which is used to assign some data in a variable. In short, a variable can have the value of string.\n",
    "eg : A = \"Abhishek\" | A = 'Abhishek'\n",
    "A is the variable and \"Abhishek\"/'Abhishek' is the string."
   ]
  },
  {
   "cell_type": "markdown",
   "id": "fcf2cbcd-6f89-420a-9319-fa4664f4967b",
   "metadata": {},
   "source": [
    "#Answer 3\n",
    "\n",
    "- Int - contains whole numbers.\n",
    "- Float - contains decimal numbers.\n",
    "- String - contains series of characters.\n",
    "- Complex - contains complex numbers."
   ]
  },
  {
   "cell_type": "markdown",
   "id": "236ae7f0-90b6-49f3-b333-4b393fcde1f5",
   "metadata": {},
   "source": [
    "#Answer 4\n",
    "\n",
    "An expression can be made up of various elements like operator, variable and direct data structure. An expression, in turn, tries to evaluate itself and give/display/print the final result."
   ]
  },
  {
   "cell_type": "markdown",
   "id": "3e043061-5fe8-4126-acdb-7df91e27f1b7",
   "metadata": {},
   "source": [
    "#Answer 5\n",
    "\n",
    "Expression :  made up of various elements like operator, variable and direct data structure.\n",
    "eg - \"Abhishek\" + \"Shekade\"\n",
    "\n",
    "Statement  :  made up of variable and value which will be assign to the variable.\n",
    "eg - A = \"Abhishek Shekade\""
   ]
  },
  {
   "cell_type": "code",
   "execution_count": 12,
   "id": "cd368de2-f420-4f0a-93de-b87477384072",
   "metadata": {},
   "outputs": [
    {
     "name": "stdout",
     "output_type": "stream",
     "text": [
      "bacon will contain 22 after the execution.\n"
     ]
    }
   ],
   "source": [
    "#Answer 6\n",
    "\n",
    "bacon = 22\n",
    "bacon + 1\n",
    "print(f\"bacon will contain {bacon} after the execution.\") #no reassignment, thus no value increment."
   ]
  },
  {
   "cell_type": "code",
   "execution_count": 13,
   "id": "20b1d95f-52e3-46ab-843e-74b70703a543",
   "metadata": {},
   "outputs": [
    {
     "name": "stdout",
     "output_type": "stream",
     "text": [
      "spamspamspam spamspamspam\n"
     ]
    }
   ],
   "source": [
    "#Answer 7\n",
    "A = 'spam'+'spamspam'\n",
    "B = 'spam'*3\n",
    "\n",
    "print(A , B) # both has same values as first is string concate and second is string multiplier "
   ]
  },
  {
   "cell_type": "code",
   "execution_count": 14,
   "id": "511b5ea7-bd32-49c5-93c8-1faf295642db",
   "metadata": {},
   "outputs": [
    {
     "ename": "SyntaxError",
     "evalue": "cannot assign to literal here. Maybe you meant '==' instead of '='? (160869303.py, line 2)",
     "output_type": "error",
     "traceback": [
      "\u001b[0;36m  Cell \u001b[0;32mIn [14], line 2\u001b[0;36m\u001b[0m\n\u001b[0;31m    100 = \"Hello\"\u001b[0m\n\u001b[0m    ^\u001b[0m\n\u001b[0;31mSyntaxError\u001b[0m\u001b[0;31m:\u001b[0m cannot assign to literal here. Maybe you meant '==' instead of '='?\n"
     ]
    }
   ],
   "source": [
    "#Answer 8\n",
    "100 = \"Hello\"\n",
    "eggs = \"Hello\"\n",
    "\n",
    "#according to python variable and assignment rules, The variable cannot begin with a int/float/number."
   ]
  },
  {
   "cell_type": "code",
   "execution_count": 15,
   "id": "cc4c11b7-a3f0-4f63-bba2-cd0625a6f689",
   "metadata": {},
   "outputs": [],
   "source": [
    "#Answer 9\n",
    "value = \"8087\"\n",
    "A = int(value) #for int values\n",
    "B = float(value) #for float values\n",
    "C = str(value) #for str values\n"
   ]
  },
  {
   "cell_type": "code",
   "execution_count": 16,
   "id": "77bb2288-d733-47eb-8b19-b2f0a883431d",
   "metadata": {},
   "outputs": [
    {
     "ename": "TypeError",
     "evalue": "can only concatenate str (not \"int\") to str",
     "output_type": "error",
     "traceback": [
      "\u001b[0;31m---------------------------------------------------------------------------\u001b[0m",
      "\u001b[0;31mTypeError\u001b[0m                                 Traceback (most recent call last)",
      "Cell \u001b[0;32mIn [16], line 2\u001b[0m\n\u001b[1;32m      1\u001b[0m \u001b[38;5;66;03m#Answer 10\u001b[39;00m\n\u001b[0;32m----> 2\u001b[0m \u001b[38;5;124;43m'\u001b[39;49m\u001b[38;5;124;43mI have eaten \u001b[39;49m\u001b[38;5;124;43m'\u001b[39;49m\u001b[43m \u001b[49m\u001b[38;5;241;43m+\u001b[39;49m\u001b[43m \u001b[49m\u001b[38;5;241;43m99\u001b[39;49m \u001b[38;5;241m+\u001b[39m \u001b[38;5;124m'\u001b[39m\u001b[38;5;124mburritos.\u001b[39m\u001b[38;5;124m'\u001b[39m\n",
      "\u001b[0;31mTypeError\u001b[0m: can only concatenate str (not \"int\") to str"
     ]
    }
   ],
   "source": [
    "#Answer 10\n",
    "'I have eaten ' + 99 + 'burritos.' #there will be a TypeError because 99 is not a string\n",
    "#Solution in next cell."
   ]
  },
  {
   "cell_type": "code",
   "execution_count": 17,
   "id": "e9672e85-89c3-451f-adc8-4c681d0a73ca",
   "metadata": {},
   "outputs": [
    {
     "data": {
      "text/plain": [
       "'I have eaten 99burritos.'"
      ]
     },
     "execution_count": 17,
     "metadata": {},
     "output_type": "execute_result"
    }
   ],
   "source": [
    "value = str(99)\n",
    "'I have eaten ' + value + 'burritos.'\n",
    "#PS -  This can be done directly without assignment."
   ]
  }
 ],
 "metadata": {
  "kernelspec": {
   "display_name": "Python 3 (ipykernel)",
   "language": "python",
   "name": "python3"
  },
  "language_info": {
   "codemirror_mode": {
    "name": "ipython",
    "version": 3
   },
   "file_extension": ".py",
   "mimetype": "text/x-python",
   "name": "python",
   "nbconvert_exporter": "python",
   "pygments_lexer": "ipython3",
   "version": "3.10.6"
  }
 },
 "nbformat": 4,
 "nbformat_minor": 5
}
